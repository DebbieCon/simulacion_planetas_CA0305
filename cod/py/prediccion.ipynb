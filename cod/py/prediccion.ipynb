{
 "cells": [
  {
   "cell_type": "code",
   "execution_count": 1,
   "id": "e5f30d5d",
   "metadata": {},
   "outputs": [],
   "source": [
    "from Datos import Datos\n",
    "from ModeloPINN import ModeloPINN"
   ]
  },
  {
   "cell_type": "code",
   "execution_count": 2,
   "id": "cf1e9964",
   "metadata": {},
   "outputs": [],
   "source": [
    "modelo = ModeloPINN('..\\..\\data\\sistema_solar.csv',['mercurio','venus','tierra','marte','jupiter','saturno','urano','neptuno'],fecha = 'fecha', device='cpu')"
   ]
  },
  {
   "cell_type": "code",
   "execution_count": 3,
   "id": "70079b23",
   "metadata": {},
   "outputs": [],
   "source": [
    "modelo.posiciones_velocidades(obj='tierra')\n",
    "modelo.escalar_y_transformar()\n",
    "modelo.particionar_datos(tam_test=0.2, batch_size=64)"
   ]
  },
  {
   "cell_type": "code",
   "execution_count": 4,
   "id": "ad934d1a",
   "metadata": {},
   "outputs": [],
   "source": [
    "modelo.construir_red(neuronas=[1+8*3,128,128,128,64,32,16,3])\n",
    "modelo.optimizar_red(paciencia = 35, min_lr=1e-6)"
   ]
  },
  {
   "cell_type": "code",
   "execution_count": null,
   "id": "74d9b67e",
   "metadata": {},
   "outputs": [],
   "source": [
    "modelo.entrenar_cv(k_folds = 5, epochs = 1000, peso_fis = 0, early = 100)"
   ]
  },
  {
   "cell_type": "code",
   "execution_count": null,
   "id": "ffd667d7",
   "metadata": {},
   "outputs": [],
   "source": [
    "peso = modelo.calcular_peso_fisico()\n",
    "historiales = modelo.entrenar_cv(k_folds = 5, epochs = 500, peso_fis = peso, early = 100)"
   ]
  }
 ],
 "metadata": {
  "kernelspec": {
   "display_name": "CA0305",
   "language": "python",
   "name": "python3"
  },
  "language_info": {
   "codemirror_mode": {
    "name": "ipython",
    "version": 3
   },
   "file_extension": ".py",
   "mimetype": "text/x-python",
   "name": "python",
   "nbconvert_exporter": "python",
   "pygments_lexer": "ipython3",
   "version": "3.8.18"
  }
 },
 "nbformat": 4,
 "nbformat_minor": 5
}
